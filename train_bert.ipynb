{
 "cells": [
  {
   "cell_type": "code",
   "execution_count": 2,
   "metadata": {},
   "outputs": [
    {
     "name": "stderr",
     "output_type": "stream",
     "text": [
      "/Users/danielcoker/Documents/School/500 Level/Final Year Project/Emergency Management System/Code Playground/SVM  Playground/venv/lib/python3.11/site-packages/tqdm/auto.py:21: TqdmWarning: IProgress not found. Please update jupyter and ipywidgets. See https://ipywidgets.readthedocs.io/en/stable/user_install.html\n",
      "  from .autonotebook import tqdm as notebook_tqdm\n"
     ]
    }
   ],
   "source": [
    "import pandas as pd\n",
    "import nltk\n",
    "from nltk.corpus import stopwords\n",
    "from nltk.stem import PorterStemmer\n",
    "from sklearn.model_selection import train_test_split\n",
    "from sklearn.svm import SVC\n",
    "from sklearn.metrics import classification_report\n",
    "from sklearn.metrics import confusion_matrix\n",
    "import matplotlib.pyplot as plt\n",
    "import seaborn as sns\n",
    "from transformers import DistilBertTokenizer, DistilBertModel\n",
    "import torch"
   ]
  },
  {
   "cell_type": "code",
   "execution_count": 3,
   "metadata": {},
   "outputs": [
    {
     "name": "stdout",
     "output_type": "stream",
     "text": [
      "health 169\n",
      "fire 143\n",
      "crime 143\n",
      "====================\n",
      "health 154\n",
      "fire 123\n",
      "crime 100\n"
     ]
    }
   ],
   "source": [
    "from descriptions import descriptions\n",
    "\n",
    "category_names = {0: \"Fire\", 1: \"Crime\", 2: \"Health\"}\n",
    "\n",
    "for key, item in descriptions.items():\n",
    "    print(key, len(item))\n",
    "\n",
    "data = {\n",
    "    \"Description\": [],\n",
    "    \"IncidentCategory\": []\n",
    "}\n",
    "\n",
    "print(\"====================\")\n",
    "\n",
    "for key, item in descriptions.items():\n",
    "    _item_list = list(set(item))\n",
    "    data[\"Description\"] += _item_list\n",
    "\n",
    "    print(key, len(_item_list))\n",
    "\n",
    "    if key == \"fire\":\n",
    "        category_key = 0\n",
    "    elif key == \"crime\":\n",
    "        category_key = 1\n",
    "    elif key == \"health\":\n",
    "        category_key = 2\n",
    "    else:\n",
    "        raise Exception(\"Invalid key\")\n",
    "\n",
    "    data[\"IncidentCategory\"] += [category_key for _ in range(len(_item_list))]"
   ]
  },
  {
   "cell_type": "code",
   "execution_count": 4,
   "metadata": {},
   "outputs": [],
   "source": [
    "import string\n",
    "\n",
    "def remove_punctuation(input_string):\n",
    "    # Make a translation table that maps all punctuation characters to None\n",
    "    translator = str.maketrans(\"\", \"\", string.punctuation)\n",
    "\n",
    "    # Apply the translation table to the input string\n",
    "    result = input_string.translate(translator)\n",
    "\n",
    "    return result"
   ]
  },
  {
   "cell_type": "code",
   "execution_count": 5,
   "metadata": {},
   "outputs": [],
   "source": [
    "df = pd.DataFrame(data)"
   ]
  },
  {
   "cell_type": "code",
   "execution_count": 6,
   "metadata": {},
   "outputs": [
    {
     "data": {
      "text/html": [
       "<div>\n",
       "<style scoped>\n",
       "    .dataframe tbody tr th:only-of-type {\n",
       "        vertical-align: middle;\n",
       "    }\n",
       "\n",
       "    .dataframe tbody tr th {\n",
       "        vertical-align: top;\n",
       "    }\n",
       "\n",
       "    .dataframe thead th {\n",
       "        text-align: right;\n",
       "    }\n",
       "</style>\n",
       "<table border=\"1\" class=\"dataframe\">\n",
       "  <thead>\n",
       "    <tr style=\"text-align: right;\">\n",
       "      <th></th>\n",
       "      <th>Description</th>\n",
       "      <th>IncidentCategory</th>\n",
       "    </tr>\n",
       "  </thead>\n",
       "  <tbody>\n",
       "    <tr>\n",
       "      <th>0</th>\n",
       "      <td>In the music room, a student experiences a sud...</td>\n",
       "      <td>2</td>\n",
       "    </tr>\n",
       "    <tr>\n",
       "      <th>1</th>\n",
       "      <td>In the parking lot, a student has a visible in...</td>\n",
       "      <td>2</td>\n",
       "    </tr>\n",
       "    <tr>\n",
       "      <th>2</th>\n",
       "      <td>Near the courtyard, a student has a severe ast...</td>\n",
       "      <td>2</td>\n",
       "    </tr>\n",
       "    <tr>\n",
       "      <th>3</th>\n",
       "      <td>In the music room, a student collapses while p...</td>\n",
       "      <td>2</td>\n",
       "    </tr>\n",
       "    <tr>\n",
       "      <th>4</th>\n",
       "      <td>Witnessing a sudden collapse near the staircas...</td>\n",
       "      <td>2</td>\n",
       "    </tr>\n",
       "    <tr>\n",
       "      <th>...</th>\n",
       "      <td>...</td>\n",
       "      <td>...</td>\n",
       "    </tr>\n",
       "    <tr>\n",
       "      <th>372</th>\n",
       "      <td>Windows were smashed and lights broken in the ...</td>\n",
       "      <td>1</td>\n",
       "    </tr>\n",
       "    <tr>\n",
       "      <th>373</th>\n",
       "      <td>A student reports their bicycle stolen from th...</td>\n",
       "      <td>1</td>\n",
       "    </tr>\n",
       "    <tr>\n",
       "      <th>374</th>\n",
       "      <td>A student is found in possession of a fake ID ...</td>\n",
       "      <td>1</td>\n",
       "    </tr>\n",
       "    <tr>\n",
       "      <th>375</th>\n",
       "      <td>In the language lab, a student's personal belo...</td>\n",
       "      <td>1</td>\n",
       "    </tr>\n",
       "    <tr>\n",
       "      <th>376</th>\n",
       "      <td>A student is cyberbullying another student thr...</td>\n",
       "      <td>1</td>\n",
       "    </tr>\n",
       "  </tbody>\n",
       "</table>\n",
       "<p>377 rows × 2 columns</p>\n",
       "</div>"
      ],
      "text/plain": [
       "                                           Description  IncidentCategory\n",
       "0    In the music room, a student experiences a sud...                 2\n",
       "1    In the parking lot, a student has a visible in...                 2\n",
       "2    Near the courtyard, a student has a severe ast...                 2\n",
       "3    In the music room, a student collapses while p...                 2\n",
       "4    Witnessing a sudden collapse near the staircas...                 2\n",
       "..                                                 ...               ...\n",
       "372  Windows were smashed and lights broken in the ...                 1\n",
       "373  A student reports their bicycle stolen from th...                 1\n",
       "374  A student is found in possession of a fake ID ...                 1\n",
       "375  In the language lab, a student's personal belo...                 1\n",
       "376  A student is cyberbullying another student thr...                 1\n",
       "\n",
       "[377 rows x 2 columns]"
      ]
     },
     "execution_count": 6,
     "metadata": {},
     "output_type": "execute_result"
    }
   ],
   "source": [
    "df"
   ]
  },
  {
   "cell_type": "code",
   "execution_count": 7,
   "metadata": {},
   "outputs": [],
   "source": [
    "# Apply remove_punctuation function\n",
    "df['Description'] = df['Description'].apply(remove_punctuation)\n",
    "\n",
    "# Lowercase\n",
    "df['Description'] = df['Description'].str.lower()\n",
    "\n",
    "# Tokenization\n",
    "df['Description'] = df['Description'].apply(nltk.word_tokenize)\n",
    "\n",
    "# Stop Word Removal\n",
    "stop_words = set(stopwords.words('english'))\n",
    "df['Description'] = df['Description'].apply(lambda tokens: [word for word in tokens if word not in stop_words])\n",
    "\n",
    "# Stemming\n",
    "stemmer = PorterStemmer()\n",
    "df['Description'] = df['Description'].apply(lambda tokens: [stemmer.stem(word) for word in tokens])\n",
    "\n",
    "# Join the tokens back into a single string\n",
    "df['Description'] = df['Description'].apply(' '.join)\n",
    "\n",
    "# BERT Tokenization and Embeddings\n",
    "tokenizer = DistilBertTokenizer.from_pretrained('distilbert-base-uncased')\n",
    "model = DistilBertModel.from_pretrained('distilbert-base-uncased')"
   ]
  },
  {
   "cell_type": "code",
   "execution_count": 8,
   "metadata": {},
   "outputs": [
    {
     "data": {
      "text/html": [
       "<div>\n",
       "<style scoped>\n",
       "    .dataframe tbody tr th:only-of-type {\n",
       "        vertical-align: middle;\n",
       "    }\n",
       "\n",
       "    .dataframe tbody tr th {\n",
       "        vertical-align: top;\n",
       "    }\n",
       "\n",
       "    .dataframe thead th {\n",
       "        text-align: right;\n",
       "    }\n",
       "</style>\n",
       "<table border=\"1\" class=\"dataframe\">\n",
       "  <thead>\n",
       "    <tr style=\"text-align: right;\">\n",
       "      <th></th>\n",
       "      <th>Description</th>\n",
       "      <th>IncidentCategory</th>\n",
       "    </tr>\n",
       "  </thead>\n",
       "  <tbody>\n",
       "    <tr>\n",
       "      <th>0</th>\n",
       "      <td>music room student experi sudden loss hear nee...</td>\n",
       "      <td>2</td>\n",
       "    </tr>\n",
       "    <tr>\n",
       "      <th>1</th>\n",
       "      <td>park lot student visibl injuri bicycl accid pa...</td>\n",
       "      <td>2</td>\n",
       "    </tr>\n",
       "    <tr>\n",
       "      <th>2</th>\n",
       "      <td>near courtyard student sever asthma attack str...</td>\n",
       "      <td>2</td>\n",
       "    </tr>\n",
       "    <tr>\n",
       "      <th>3</th>\n",
       "      <td>music room student collaps play instrument oth...</td>\n",
       "      <td>2</td>\n",
       "    </tr>\n",
       "    <tr>\n",
       "      <th>4</th>\n",
       "      <td>wit sudden collaps near staircas swiftli reach...</td>\n",
       "      <td>2</td>\n",
       "    </tr>\n",
       "    <tr>\n",
       "      <th>...</th>\n",
       "      <td>...</td>\n",
       "      <td>...</td>\n",
       "    </tr>\n",
       "    <tr>\n",
       "      <th>372</th>\n",
       "      <td>window smash light broken scienc lab disrupt r...</td>\n",
       "      <td>1</td>\n",
       "    </tr>\n",
       "    <tr>\n",
       "      <th>373</th>\n",
       "      <td>student report bicycl stolen design bike rack ...</td>\n",
       "      <td>1</td>\n",
       "    </tr>\n",
       "    <tr>\n",
       "      <th>374</th>\n",
       "      <td>student found possess fake id purchas alcohol ...</td>\n",
       "      <td>1</td>\n",
       "    </tr>\n",
       "    <tr>\n",
       "      <th>375</th>\n",
       "      <td>languag lab student person belong stolen step ...</td>\n",
       "      <td>1</td>\n",
       "    </tr>\n",
       "    <tr>\n",
       "      <th>376</th>\n",
       "      <td>student cyberbulli anoth student social media ...</td>\n",
       "      <td>1</td>\n",
       "    </tr>\n",
       "  </tbody>\n",
       "</table>\n",
       "<p>377 rows × 2 columns</p>\n",
       "</div>"
      ],
      "text/plain": [
       "                                           Description  IncidentCategory\n",
       "0    music room student experi sudden loss hear nee...                 2\n",
       "1    park lot student visibl injuri bicycl accid pa...                 2\n",
       "2    near courtyard student sever asthma attack str...                 2\n",
       "3    music room student collaps play instrument oth...                 2\n",
       "4    wit sudden collaps near staircas swiftli reach...                 2\n",
       "..                                                 ...               ...\n",
       "372  window smash light broken scienc lab disrupt r...                 1\n",
       "373  student report bicycl stolen design bike rack ...                 1\n",
       "374  student found possess fake id purchas alcohol ...                 1\n",
       "375  languag lab student person belong stolen step ...                 1\n",
       "376  student cyberbulli anoth student social media ...                 1\n",
       "\n",
       "[377 rows x 2 columns]"
      ]
     },
     "execution_count": 8,
     "metadata": {},
     "output_type": "execute_result"
    }
   ],
   "source": [
    "df"
   ]
  },
  {
   "cell_type": "code",
   "execution_count": 9,
   "metadata": {},
   "outputs": [],
   "source": [
    "# BERT Tokenization and Embeddings\n",
    "tokenizer = DistilBertTokenizer.from_pretrained('distilbert-base-uncased')\n",
    "model = DistilBertModel.from_pretrained('distilbert-base-uncased')"
   ]
  },
  {
   "cell_type": "code",
   "execution_count": 11,
   "metadata": {},
   "outputs": [],
   "source": [
    "# Function to get BERT embeddings for a sentence\n",
    "def get_bert_embeddings(sentence):\n",
    "    inputs = tokenizer(sentence, return_tensors=\"pt\")\n",
    "    outputs = model(**inputs)\n",
    "\n",
    "    return outputs.last_hidden_state.mean(dim=1).squeeze().detach().numpy()"
   ]
  },
  {
   "cell_type": "code",
   "execution_count": 12,
   "metadata": {},
   "outputs": [],
   "source": [
    "# Apply BERT embeddings to each description\n",
    "df['BERT_Embeddings'] = df['Description'].apply(get_bert_embeddings)\n"
   ]
  },
  {
   "cell_type": "code",
   "execution_count": 13,
   "metadata": {},
   "outputs": [
    {
     "data": {
      "text/html": [
       "<div>\n",
       "<style scoped>\n",
       "    .dataframe tbody tr th:only-of-type {\n",
       "        vertical-align: middle;\n",
       "    }\n",
       "\n",
       "    .dataframe tbody tr th {\n",
       "        vertical-align: top;\n",
       "    }\n",
       "\n",
       "    .dataframe thead th {\n",
       "        text-align: right;\n",
       "    }\n",
       "</style>\n",
       "<table border=\"1\" class=\"dataframe\">\n",
       "  <thead>\n",
       "    <tr style=\"text-align: right;\">\n",
       "      <th></th>\n",
       "      <th>Description</th>\n",
       "      <th>IncidentCategory</th>\n",
       "      <th>BERT_Embeddings</th>\n",
       "    </tr>\n",
       "  </thead>\n",
       "  <tbody>\n",
       "    <tr>\n",
       "      <th>0</th>\n",
       "      <td>music room student experi sudden loss hear nee...</td>\n",
       "      <td>2</td>\n",
       "      <td>[-0.23163998, -0.098914996, 0.25339624, -0.139...</td>\n",
       "    </tr>\n",
       "    <tr>\n",
       "      <th>1</th>\n",
       "      <td>park lot student visibl injuri bicycl accid pa...</td>\n",
       "      <td>2</td>\n",
       "      <td>[-0.3566947, -0.17160292, 0.2157207, -0.034758...</td>\n",
       "    </tr>\n",
       "    <tr>\n",
       "      <th>2</th>\n",
       "      <td>near courtyard student sever asthma attack str...</td>\n",
       "      <td>2</td>\n",
       "      <td>[-0.13961504, -0.057183165, 0.16805217, -0.109...</td>\n",
       "    </tr>\n",
       "    <tr>\n",
       "      <th>3</th>\n",
       "      <td>music room student collaps play instrument oth...</td>\n",
       "      <td>2</td>\n",
       "      <td>[-0.09505111, 0.0941174, 0.10713117, 0.0540356...</td>\n",
       "    </tr>\n",
       "    <tr>\n",
       "      <th>4</th>\n",
       "      <td>wit sudden collaps near staircas swiftli reach...</td>\n",
       "      <td>2</td>\n",
       "      <td>[-0.08076562, -0.116519704, 0.39409757, 0.0865...</td>\n",
       "    </tr>\n",
       "    <tr>\n",
       "      <th>...</th>\n",
       "      <td>...</td>\n",
       "      <td>...</td>\n",
       "      <td>...</td>\n",
       "    </tr>\n",
       "    <tr>\n",
       "      <th>372</th>\n",
       "      <td>window smash light broken scienc lab disrupt r...</td>\n",
       "      <td>1</td>\n",
       "      <td>[-0.023343408, -0.054696966, 0.23567699, 0.033...</td>\n",
       "    </tr>\n",
       "    <tr>\n",
       "      <th>373</th>\n",
       "      <td>student report bicycl stolen design bike rack ...</td>\n",
       "      <td>1</td>\n",
       "      <td>[0.28438836, -0.11949191, 0.07881497, 0.000545...</td>\n",
       "    </tr>\n",
       "    <tr>\n",
       "      <th>374</th>\n",
       "      <td>student found possess fake id purchas alcohol ...</td>\n",
       "      <td>1</td>\n",
       "      <td>[0.09401407, 0.020361401, 0.17949253, -0.11307...</td>\n",
       "    </tr>\n",
       "    <tr>\n",
       "      <th>375</th>\n",
       "      <td>languag lab student person belong stolen step ...</td>\n",
       "      <td>1</td>\n",
       "      <td>[-0.07886325, -0.16359966, 0.019625388, -0.128...</td>\n",
       "    </tr>\n",
       "    <tr>\n",
       "      <th>376</th>\n",
       "      <td>student cyberbulli anoth student social media ...</td>\n",
       "      <td>1</td>\n",
       "      <td>[0.26498327, -0.025607232, 0.042427685, -0.048...</td>\n",
       "    </tr>\n",
       "  </tbody>\n",
       "</table>\n",
       "<p>377 rows × 3 columns</p>\n",
       "</div>"
      ],
      "text/plain": [
       "                                           Description  IncidentCategory  \\\n",
       "0    music room student experi sudden loss hear nee...                 2   \n",
       "1    park lot student visibl injuri bicycl accid pa...                 2   \n",
       "2    near courtyard student sever asthma attack str...                 2   \n",
       "3    music room student collaps play instrument oth...                 2   \n",
       "4    wit sudden collaps near staircas swiftli reach...                 2   \n",
       "..                                                 ...               ...   \n",
       "372  window smash light broken scienc lab disrupt r...                 1   \n",
       "373  student report bicycl stolen design bike rack ...                 1   \n",
       "374  student found possess fake id purchas alcohol ...                 1   \n",
       "375  languag lab student person belong stolen step ...                 1   \n",
       "376  student cyberbulli anoth student social media ...                 1   \n",
       "\n",
       "                                       BERT_Embeddings  \n",
       "0    [-0.23163998, -0.098914996, 0.25339624, -0.139...  \n",
       "1    [-0.3566947, -0.17160292, 0.2157207, -0.034758...  \n",
       "2    [-0.13961504, -0.057183165, 0.16805217, -0.109...  \n",
       "3    [-0.09505111, 0.0941174, 0.10713117, 0.0540356...  \n",
       "4    [-0.08076562, -0.116519704, 0.39409757, 0.0865...  \n",
       "..                                                 ...  \n",
       "372  [-0.023343408, -0.054696966, 0.23567699, 0.033...  \n",
       "373  [0.28438836, -0.11949191, 0.07881497, 0.000545...  \n",
       "374  [0.09401407, 0.020361401, 0.17949253, -0.11307...  \n",
       "375  [-0.07886325, -0.16359966, 0.019625388, -0.128...  \n",
       "376  [0.26498327, -0.025607232, 0.042427685, -0.048...  \n",
       "\n",
       "[377 rows x 3 columns]"
      ]
     },
     "execution_count": 13,
     "metadata": {},
     "output_type": "execute_result"
    }
   ],
   "source": [
    "df"
   ]
  },
  {
   "cell_type": "code",
   "execution_count": 14,
   "metadata": {},
   "outputs": [],
   "source": [
    "# Create training and testing sets\n",
    "X_train, X_test, y_train, y_test = train_test_split(\n",
    "    df['BERT_Embeddings'].tolist(),\n",
    "    df['IncidentCategory'],\n",
    "    test_size=0.2,\n",
    "    random_state=42,\n",
    ")"
   ]
  },
  {
   "cell_type": "code",
   "execution_count": 15,
   "metadata": {},
   "outputs": [
    {
     "data": {
      "text/html": [
       "<style>#sk-container-id-1 {color: black;}#sk-container-id-1 pre{padding: 0;}#sk-container-id-1 div.sk-toggleable {background-color: white;}#sk-container-id-1 label.sk-toggleable__label {cursor: pointer;display: block;width: 100%;margin-bottom: 0;padding: 0.3em;box-sizing: border-box;text-align: center;}#sk-container-id-1 label.sk-toggleable__label-arrow:before {content: \"▸\";float: left;margin-right: 0.25em;color: #696969;}#sk-container-id-1 label.sk-toggleable__label-arrow:hover:before {color: black;}#sk-container-id-1 div.sk-estimator:hover label.sk-toggleable__label-arrow:before {color: black;}#sk-container-id-1 div.sk-toggleable__content {max-height: 0;max-width: 0;overflow: hidden;text-align: left;background-color: #f0f8ff;}#sk-container-id-1 div.sk-toggleable__content pre {margin: 0.2em;color: black;border-radius: 0.25em;background-color: #f0f8ff;}#sk-container-id-1 input.sk-toggleable__control:checked~div.sk-toggleable__content {max-height: 200px;max-width: 100%;overflow: auto;}#sk-container-id-1 input.sk-toggleable__control:checked~label.sk-toggleable__label-arrow:before {content: \"▾\";}#sk-container-id-1 div.sk-estimator input.sk-toggleable__control:checked~label.sk-toggleable__label {background-color: #d4ebff;}#sk-container-id-1 div.sk-label input.sk-toggleable__control:checked~label.sk-toggleable__label {background-color: #d4ebff;}#sk-container-id-1 input.sk-hidden--visually {border: 0;clip: rect(1px 1px 1px 1px);clip: rect(1px, 1px, 1px, 1px);height: 1px;margin: -1px;overflow: hidden;padding: 0;position: absolute;width: 1px;}#sk-container-id-1 div.sk-estimator {font-family: monospace;background-color: #f0f8ff;border: 1px dotted black;border-radius: 0.25em;box-sizing: border-box;margin-bottom: 0.5em;}#sk-container-id-1 div.sk-estimator:hover {background-color: #d4ebff;}#sk-container-id-1 div.sk-parallel-item::after {content: \"\";width: 100%;border-bottom: 1px solid gray;flex-grow: 1;}#sk-container-id-1 div.sk-label:hover label.sk-toggleable__label {background-color: #d4ebff;}#sk-container-id-1 div.sk-serial::before {content: \"\";position: absolute;border-left: 1px solid gray;box-sizing: border-box;top: 0;bottom: 0;left: 50%;z-index: 0;}#sk-container-id-1 div.sk-serial {display: flex;flex-direction: column;align-items: center;background-color: white;padding-right: 0.2em;padding-left: 0.2em;position: relative;}#sk-container-id-1 div.sk-item {position: relative;z-index: 1;}#sk-container-id-1 div.sk-parallel {display: flex;align-items: stretch;justify-content: center;background-color: white;position: relative;}#sk-container-id-1 div.sk-item::before, #sk-container-id-1 div.sk-parallel-item::before {content: \"\";position: absolute;border-left: 1px solid gray;box-sizing: border-box;top: 0;bottom: 0;left: 50%;z-index: -1;}#sk-container-id-1 div.sk-parallel-item {display: flex;flex-direction: column;z-index: 1;position: relative;background-color: white;}#sk-container-id-1 div.sk-parallel-item:first-child::after {align-self: flex-end;width: 50%;}#sk-container-id-1 div.sk-parallel-item:last-child::after {align-self: flex-start;width: 50%;}#sk-container-id-1 div.sk-parallel-item:only-child::after {width: 0;}#sk-container-id-1 div.sk-dashed-wrapped {border: 1px dashed gray;margin: 0 0.4em 0.5em 0.4em;box-sizing: border-box;padding-bottom: 0.4em;background-color: white;}#sk-container-id-1 div.sk-label label {font-family: monospace;font-weight: bold;display: inline-block;line-height: 1.2em;}#sk-container-id-1 div.sk-label-container {text-align: center;}#sk-container-id-1 div.sk-container {/* jupyter's `normalize.less` sets `[hidden] { display: none; }` but bootstrap.min.css set `[hidden] { display: none !important; }` so we also need the `!important` here to be able to override the default hidden behavior on the sphinx rendered scikit-learn.org. See: https://github.com/scikit-learn/scikit-learn/issues/21755 */display: inline-block !important;position: relative;}#sk-container-id-1 div.sk-text-repr-fallback {display: none;}</style><div id=\"sk-container-id-1\" class=\"sk-top-container\"><div class=\"sk-text-repr-fallback\"><pre>SVC(C=0.5, kernel=&#x27;linear&#x27;, random_state=42)</pre><b>In a Jupyter environment, please rerun this cell to show the HTML representation or trust the notebook. <br />On GitHub, the HTML representation is unable to render, please try loading this page with nbviewer.org.</b></div><div class=\"sk-container\" hidden><div class=\"sk-item\"><div class=\"sk-estimator sk-toggleable\"><input class=\"sk-toggleable__control sk-hidden--visually\" id=\"sk-estimator-id-1\" type=\"checkbox\" checked><label for=\"sk-estimator-id-1\" class=\"sk-toggleable__label sk-toggleable__label-arrow\">SVC</label><div class=\"sk-toggleable__content\"><pre>SVC(C=0.5, kernel=&#x27;linear&#x27;, random_state=42)</pre></div></div></div></div></div>"
      ],
      "text/plain": [
       "SVC(C=0.5, kernel='linear', random_state=42)"
      ]
     },
     "execution_count": 15,
     "metadata": {},
     "output_type": "execute_result"
    }
   ],
   "source": [
    "# Train the SVM Model\n",
    "svm_classifier = SVC(kernel='linear', C=0.5, random_state=42)\n",
    "svm_classifier.fit(X_train, y_train)"
   ]
  },
  {
   "cell_type": "code",
   "execution_count": 16,
   "metadata": {},
   "outputs": [],
   "source": [
    "# Make predictions on the test set\n",
    "svm_predictions = svm_classifier.predict(X_test)"
   ]
  },
  {
   "cell_type": "code",
   "execution_count": 17,
   "metadata": {},
   "outputs": [
    {
     "name": "stdout",
     "output_type": "stream",
     "text": [
      "              precision    recall  f1-score   support\n",
      "\n",
      "           0       0.95      1.00      0.97        18\n",
      "           1       1.00      0.84      0.91        19\n",
      "           2       0.95      1.00      0.97        39\n",
      "\n",
      "    accuracy                           0.96        76\n",
      "   macro avg       0.97      0.95      0.95        76\n",
      "weighted avg       0.96      0.96      0.96        76\n",
      "\n"
     ]
    }
   ],
   "source": [
    "# Evaluate the model\n",
    "report = classification_report(y_test, svm_predictions)\n",
    "print(report)"
   ]
  },
  {
   "cell_type": "code",
   "execution_count": 18,
   "metadata": {},
   "outputs": [],
   "source": [
    "# Confusion Matrix\n",
    "conf_matrix = confusion_matrix(y_test, svm_predictions)"
   ]
  },
  {
   "cell_type": "code",
   "execution_count": 19,
   "metadata": {},
   "outputs": [
    {
     "data": {
      "image/png": "[encoded data removed]",
      "text/plain": [
       "<Figure size 800x600 with 1 Axes>"
      ]
     },
     "metadata": {},
     "output_type": "display_data"
    }
   ],
   "source": [
    "# category_names = {0: \"Fire\", 1: \"Crime\", 2: \"Health\"}\n",
    "\n",
    "# Plot Confusion Matrix\n",
    "plt.figure(figsize=(8, 6))\n",
    "sns.heatmap(conf_matrix, annot=True, fmt='d', cmap='Blues', cbar=False, xticklabels=svm_classifier.classes_, yticklabels=svm_classifier.classes_)\n",
    "plt.title('Confusion Matrix')\n",
    "plt.xlabel('Predicted')\n",
    "plt.ylabel('True')\n",
    "plt.show()"
   ]
  },
  {
   "cell_type": "code",
   "execution_count": 20,
   "metadata": {},
   "outputs": [],
   "source": [
    "# Function to get BERT embeddings for user input\n",
    "def get_user_input_embeddings(user_input):\n",
    "    user_input_processed = remove_punctuation(user_input.lower())\n",
    "    user_input_tokens = nltk.word_tokenize(user_input_processed)\n",
    "    user_input_tokens = [word for word in user_input_tokens if word not in stop_words]\n",
    "    user_input_tokens = [stemmer.stem(word) for word in user_input_tokens]\n",
    "    user_input_string = ' '.join(user_input_tokens)\n",
    "    user_input_embedding = get_bert_embeddings(user_input_string)\n",
    "\n",
    "    return user_input_embedding"
   ]
  },
  {
   "cell_type": "code",
   "execution_count": 40,
   "metadata": {},
   "outputs": [
    {
     "name": "stdout",
     "output_type": "stream",
     "text": [
      "[2]\n",
      "Predicted Incident Category: Health (2)\n"
     ]
    }
   ],
   "source": [
    "# Test Input\n",
    "\n",
    "\"\"\"\n",
    "Fire broke out in the lab\n",
    "A student is running dubs at T.I Francis, send the sheriffs\n",
    "Accident happened at engineering building abeg.\n",
    "I fell from the stairs while cleaning now I can't feel my legs, help!!\n",
    "\"\"\"\n",
    "\n",
    "\n",
    "user_input = \"Accident happened at engineering building abeg\"\n",
    "\n",
    "# Get BERT embeddings for user input\n",
    "user_input_embedding = get_user_input_embeddings(user_input)\n",
    "\n",
    "# Make prediction using the trained SVM model\n",
    "user_prediction = svm_classifier.predict([user_input_embedding])\n",
    "\n",
    "print(user_prediction)\n",
    "\n",
    "predicted_category_name = category_names[user_prediction[0]]\n",
    "\n",
    "# Display the prediction\n",
    "print(\n",
    "    \"Predicted Incident Category:\",\n",
    "    f\"{predicted_category_name} ({user_prediction[0]})\",\n",
    ")"
   ]
  },
  {
   "cell_type": "code",
   "execution_count": null,
   "metadata": {},
   "outputs": [],
   "source": []
  }
 ],
 "metadata": {
  "kernelspec": {
   "display_name": "venv",
   "language": "python",
   "name": "python3"
  },
  "language_info": {
   "codemirror_mode": {
    "name": "ipython",
    "version": 3
   },
   "file_extension": ".py",
   "mimetype": "text/x-python",
   "name": "python",
   "nbconvert_exporter": "python",
   "pygments_lexer": "ipython3",
   "version": "3.11.2"
  }
 },
 "nbformat": 4,
 "nbformat_minor": 2
}
