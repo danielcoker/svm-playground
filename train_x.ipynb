{
 "cells": [
  {
   "cell_type": "code",
   "execution_count": 19,
   "id": "79ebee98",
   "metadata": {},
   "outputs": [
    {
     "data": {
      "text/plain": [
       "3"
      ]
     },
     "execution_count": 19,
     "metadata": {},
     "output_type": "execute_result"
    }
   ],
   "source": [
    "import nltk\n",
    "import pandas as pd\n",
    "from nltk.corpus import stopwords\n",
    "from nltk.stem import PorterStemmer\n",
    "from sklearn.feature_extraction.text import TfidfVectorizer\n",
    "from sklearn.metrics import classification_report\n",
    "from sklearn.model_selection import train_test_split\n",
    "from sklearn.svm import SVC\n",
    "\n",
    "from descriptions import descriptions"
   ]
  },
  {
   "cell_type": "code",
   "execution_count": 6,
   "metadata": {},
   "outputs": [],
   "source": [
    "import warnings\n",
    "warnings.filterwarnings(\"ignore\")"
   ]
  },
  {
   "cell_type": "code",
   "execution_count": 18,
   "metadata": {},
   "outputs": [
    {
     "name": "stdout",
     "output_type": "stream",
     "text": [
      "dict_items([('health', ['In a bustling corridor, I spot someone collapsing, gasping for breath. Swiftly dialing emergency services; panic sets in.', 'Heart pounding, I witness a seizure unfold in the library. Urgently seek help, feeling the seconds slip away.', 'Chaos erupts as a student falls unconscious in the cafeteria. Grabbing attention, urgently pleading for assistance.', 'A sudden commotion - a person clutching their chest in the lecture hall. Dialing 999, urgency escalating.', 'Stumbling upon a distressing scene - a student choking in the courtyard. Swiftly call for aid, fear gripping.', 'Alarming sight: a fellow student collapses, unresponsive. Dialing for help, urgency heightening.', 'Panic ensues as a health crisis unfolds in the gym. Rushing to alert authorities, time slipping away.', 'Frantically reacting to a fainting episode during class. Dialing for medical help urgently.', 'In the common area, a student clutches their abdomen, in evident pain. Urgently seeking assistance.', 'Witnessing a sudden collapse near the staircase. Swiftly reaching for my phone to call for urgent help.', 'A student exhibits signs of a severe allergic reaction in the lab. Hastily reaching out for emergency assistance.', 'Heart in my throat as I see someone struggling to breathe in the hallway. Dialing emergency services urgently.', 'A health emergency disrupts the quiet study area. Urgently rallying for help, concern escalating.', 'A sudden fall, a student writhing in pain. Urgently dialing for medical assistance.', 'Disturbing scene: a student collapses during a group project discussion. Urgently seeking help, time crucial.', 'An unexpected health crisis in the courtyard. Racing to inform authorities, urgency intensifying.', 'Witnessing a fellow student experiencing a sudden blackout in the computer lab. Urgently dialing for help.', 'Startled by a student seizing near the entrance. Swiftly reaching out for help, urgency building.', 'In the art studio, a student collapses in distress. Urgently seeking aid, concern heightening.', 'A health-related emergency disrupts the quiet atmosphere of the study lounge. Dialing for help urgently.', 'Spotting a student in visible pain, clutching their stomach in the lounge. Hastily seeking emergency aid.', 'A sudden collapse in the music room. Urgently reaching for my phone, anxiety mounting.', 'In the outdoor seating area, a student struggles to breathe. Dialing for urgent medical assistance.', 'Witnessing a student in distress, gripping their chest. Urgently seeking help, tension rising.', 'A health crisis interrupts a group discussion in the courtyard. Swiftly reaching out for assistance.', 'Panic sets in as a student collapses near the water fountain. Dialing for help urgently.', 'Disturbing sight: a student experiencing a sudden health downturn in the study hall. Urgently seeking aid.', 'A sudden fall in the science lab, a student in need of urgent medical attention. Dialing for help swiftly.', 'In the quiet library, a student clutches their head in pain. Urgently reaching out for medical assistance.', 'Witnessing a health emergency near the entrance. Swiftly dialing for urgent help, concern growing.', 'A sudden collapse disrupts the peaceful atmosphere of the outdoor seating area. Urgently seeking assistance.', 'Distress unfolding as a student exhibits signs of respiratory distress in the cafeteria. Dialing urgently for help.', 'In the lecture hall, a student falls to the ground, unconscious. Urgently seeking aid, panic rising.', 'A sudden health crisis in the courtyard. Swiftly reaching for my phone to call for emergency assistance.', 'Witnessing a student seizing near the staircase. Dialing for help urgently, urgency intensifying.', 'A health emergency disrupts the group study session in the library. Urgently rallying for assistance.', 'Spotting a student in visible pain, clutching their stomach in the lounge. Urgently seeking emergency aid.', 'A sudden collapse in the music room. Dialing for urgent medical assistance.', 'In the outdoor seating area, a student struggles to breathe. Urgently reaching for my phone, anxiety mounting.', 'Witnessing a student in distress, gripping their chest. Urgently seeking help, tension rising.', 'A health crisis interrupts a group discussion in the courtyard. Swiftly reaching out for assistance.', 'Panic sets in as a student collapses near the water fountain. Dialing for help urgently.', 'Disturbing sight: a student experiencing a sudden health downturn in the study hall. Urgently seeking aid.', 'A sudden fall in the science lab, a student in need of urgent medical attention. Dialing for help swiftly.', 'In the quiet library, a student clutches their head in pain. Urgently reaching out for medical assistance.', 'Witnessing a health emergency near the entrance. Swiftly dialing for urgent help, concern growing.', 'A sudden collapse disrupts the peaceful atmosphere of the outdoor seating area. Urgently seeking assistance.', 'Distress unfolding as a student exhibits signs of respiratory distress in the cafeteria. Dialing urgently for help.', 'In the lecture hall, a student falls to the ground, unconscious. Urgently seeking aid, panic rising.', 'I find myself in the university courtyard, observing a sudden health-related emergency. A student, visibly distressed, clutches their chest and collapses near the water fountain by the library. Urgent assistance required!', 'In the cafeteria, a fellow student appears to be choking on their lunch. They are gesturing for help, struggling to breathe. Quick intervention needed!', 'Walking through the corridor, I witness a student experiencing a severe allergic reaction. They are frantically searching for an epinephrine auto-injector. Immediate medical attention is essential!', 'On the sports field, a student has taken a hard fall during a game. They lie motionless, and teammates signal for help. Swift response necessary!', \"In the lecture hall, a student faints unexpectedly. Others around are alarmed, and it's evident they need medical aid promptly.\", 'At the entrance, a student reports feeling lightheaded and dizzy. They are unable to stand steadily. Urgent attention required to prevent further complications!', 'In the parking lot, a student has a visible injury from a bicycle accident. They are in pain and need assistance immediately.', \"Witnessing a student having a seizure in the computer lab. It's a distressing scene, and immediate medical attention is crucial.\", 'Near the chemistry lab, a student spills a harmful substance on themselves. They cry out in pain, necessitating urgent first aid and appropriate cleanup measures.', 'In the music room, a student collapses while playing an instrument. Others in the room are startled, and medical help is urgently needed.', 'In the courtyard, a student is experiencing difficulty breathing, clutching their throat. Suspected choking situation – rapid intervention required!', 'In the gym, a student injures their ankle while exercising. They are in pain and unable to walk. Immediate assistance needed.', \"At the staircase, a student falls and hits their head. There's a visible injury, and urgent medical attention is required.\", 'In the dormitory, a student complains of severe abdominal pain. They are doubled over and need medical assistance promptly.', \"A student in the science lab accidentally gets a chemical in their eyes. They're in distress, and immediate eye irrigation is crucial.\", 'In the hallway, a student reports sudden chest pain. They appear anxious and in need of urgent medical attention.', 'Witnessing a student having a severe asthma attack near the courtyard. They are struggling to breathe, and immediate intervention is necessary.', 'In the art studio, a student accidentally cuts their hand while using a tool. Bleeding is evident, and quick first aid is essential.', 'Near the entrance, a student shows signs of heatstroke, feeling dizzy and nauseous. They require immediate cooling and medical attention.', 'A student in the library suddenly collapses from an unknown cause. Immediate help needed to assess and address the situation.', 'In the psychology class, a student experiences a panic attack. They are visibly distressed and need support to manage the episode.', 'At the campus pond, a student falls in and is struggling to stay afloat. Immediate rescue efforts are necessary.', \"In the language lab, a student accidentally ingests a foreign substance. They're in distress, and quick medical attention is vital.\", \"In the courtyard, a student has a sudden nosebleed that won't stop. They require immediate assistance and medical attention.\", 'Witnessing a student having a diabetic emergency in the cafeteria. They need insulin urgently, and medical help is paramount.', 'In the lecture hall, a student faints during a presentation. Quick response needed to assess their condition and provide appropriate care.', 'A student in the physics lab gets a minor burn from an experiment gone wrong. First aid is required to treat the injury.', 'In the dormitory, a student reports feeling chest pain and tightness. Urgent medical attention is needed to assess the situation.', 'At the sports complex, a student collapses while running. Immediate help is needed to determine the cause and provide assistance.', 'In the courtyard, a student stumbles and falls, complaining of severe back pain. Urgent medical attention is required.', 'In the mathematics class, a student experiences a sudden seizure. Others are alarmed, and immediate medical intervention is crucial.', 'At the campus clinic, a student reports feeling lightheaded and weak. They need urgent assessment and medical assistance.', 'In the chemistry lab, a student spills a corrosive substance on their hands. Immediate first aid and thorough rinsing are necessary.', 'In the music room, a student exhibits signs of dehydration, feeling dizzy and disoriented. They need immediate hydration and rest.', 'Near the entrance, a student collapses and appears unresponsive. Immediate medical attention is essential to assess and address the situation.', 'In the courtyard, a student is stung by a swarm of bees and shows signs of an allergic reaction. Urgent medical help is crucial.', 'At the campus pond, a student falls and injures their leg. They are in pain and require immediate assistance.', 'In the engineering lab, a student accidentally inhales fumes from a chemical reaction. They appear distressed, and immediate medical attention is vital.', 'In the psychology class, a student experiences a sudden migraine. They need a quiet space and support to manage the pain.', 'In the cafeteria, a student complains of severe stomach pain after eating. Immediate medical attention is necessary.', 'In the physics lab, a student collapses due to exhaustion and dehydration. They need hydration and rest immediately.', 'Near the library, a student reports feeling a sudden and severe headache. They need assistance and a quiet space to rest.', 'At the sports complex, a student twists their ankle during a game. They are in pain and require immediate assistance.', 'In the courtyard, a student is bitten by an insect and exhibits signs of an allergic reaction. Urgent medical help is necessary.', 'In the chemistry lab, a student accidentally spills a toxic substance on their clothes. Immediate removal of contaminated clothing and thorough rinsing are crucial.', 'In the music room, a student experiences a sudden loss of hearing. They need immediate medical attention to assess the cause.', 'Near the entrance, a student collapses and appears disoriented. Immediate medical attention is essential to determine the cause.', 'In the courtyard, a student is involved in a minor car accident. They report neck pain, and urgent medical assessment is needed.', 'At the campus pond, a student falls into the water and struggles to swim. Immediate rescue efforts are necessary.', 'In the psychology class, a student faints due to a sudden drop in blood pressure. Quick response needed to provide assistance.', 'In the cafeteria, a student accidentally ingests a food allergen. They show signs of an allergic reaction and need immediate medical attention.', 'In the physics lab, a student gets a paper cut that starts bleeding profusely. Quick first aid is necessary to stop the bleeding.', 'In the dormitory, a student experiences a sudden and severe asthma attack. They require immediate intervention and medical assistance.', 'At the sports complex, a student collapses during a workout. Immediate assessment and assistance are necessary.', 'In the courtyard, a student is stung by a wasp and exhibits signs of an allergic reaction. Urgent medical help is crucial.', 'In the chemistry lab, a student accidentally inhales fumes from a chemical reaction. They appear distressed, and immediate medical attention is vital.', 'In the music room, a student complains of sudden and severe chest pain. Urgent medical attention is needed to assess the situation.', 'Near the entrance, a student falls and injures their arm. They are in pain and require immediate assistance.', 'In the engineering lab, a student reports feeling lightheaded and dizzy. They need urgent assessment and medical assistance.', 'In the courtyard, a student experiences a sudden and severe headache. They need assistance and a quiet space to rest.']), ('fire', ['In the student lounge, a small fire breaks out in an electrical outlet. Smoke is visible, and the fire alarm has been activated. Immediate evacuation is necessary!', 'Walking through the dormitory corridor, I notice smoke emerging from a room. A fire has started, and the resident is shouting for help. Urgent assistance and evacuation required!', \"In the chemistry lab, a student accidentally spills a flammable substance, resulting in a small fire. They attempt to use a fire extinguisher, but it's spreading. Immediate intervention and evacuation needed!\", 'At the campus cafe, a kitchen appliance malfunctions, causing a sudden flare-up. Flames are visible, and staff members are struggling to contain it. Evacuation is crucial!', 'In the library, an electrical fault sparks a fire in one of the study areas. Smoke fills the room, and students are rushing to exit. Quick evacuation and alerting authorities needed!', \"In the art studio, a student's project catches fire unexpectedly. They attempt to put it out, but it intensifies. Immediate evacuation and fire department notification necessary!\", \"In the sports complex, a storage room catches fire, possibly due to faulty wiring. Smoke is spreading, and evacuation is crucial to ensure everyone's safety.\", 'Near the campus entrance, a vehicle in the parking lot is on fire. The flames are growing, and immediate evacuation of the surrounding area is essential.', \"In the physics lab, a student mishandles an experiment, causing a small fire. They try to control it, but it's escalating. Evacuation and fire department notification required!\", 'In the courtyard, a bin catches fire, likely due to discarded cigarette butts. The flames are spreading, and urgent intervention is necessary to prevent further escalation.', 'In the engineering lab, a malfunctioning machine causes a fire. Smoke is billowing, and students are alarmed. Immediate evacuation and notifying the fire department are essential.', 'At the campus pond, a barbecue event goes awry, and flames engulf the cooking area. Attendees are in a panic, and quick evacuation is necessary.', \"In the psychology class, a student's experiment results in a small fire. They attempt to extinguish it, but it's growing. Evacuation and alerting authorities needed!\", \"In the cafeteria, a cooking appliance malfunctions, leading to a fire. Staff members are trying to control it, but it's spreading. Urgent evacuation required!\", \"In the physics lab, a student's experiment with electrical equipment causes a fire. They are struggling to contain it. Immediate evacuation and fire department notification necessary!\", 'In the dormitory kitchen, a grease fire erupts on the stove. Residents are alarmed, and the fire is spreading. Quick evacuation and fire department notification essential!', \"In the music room, faulty wiring in electronic equipment sparks a fire. It's growing, and students need to evacuate immediately. Notify the fire department!\", 'Near the entrance, a bin catches fire, likely due to discarded cigarette butts. The flames are spreading, and urgent intervention is necessary to prevent further escalation.', \"In the chemistry lab, a student mishandles an experiment, causing a small fire. They try to control it, but it's escalating. Evacuation and fire department notification required!\", 'At the campus pond, a barbecue event goes awry, and flames engulf the cooking area. Attendees are in a panic, and quick evacuation is necessary.', \"In the psychology class, a student's experiment results in a small fire. They attempt to extinguish it, but it's growing. Evacuation and alerting authorities needed!\", \"In the cafeteria, a cooking appliance malfunctions, leading to a fire. Staff members are trying to control it, but it's spreading. Urgent evacuation required!\", \"In the physics lab, a student's experiment with electrical equipment causes a fire. They are struggling to contain it. Immediate evacuation and fire department notification necessary!\", 'In the dormitory kitchen, a grease fire erupts on the stove. Residents are alarmed, and the fire is spreading. Quick evacuation and fire department notification essential!', \"In the music room, faulty wiring in electronic equipment sparks a fire. It's growing, and students need to evacuate immediately. Notify the fire department!\", 'Near the entrance, a student accidentally starts a fire while attempting to light a cigarette. The flames are spreading, and urgent intervention is necessary to prevent further escalation.', \"In the courtyard, a student's portable charger malfunctions and sparks a fire. They try to stamp it out, but it's intensifying. Immediate evacuation and fire department notification needed!\", 'In the gym, an exercise machine overheats and catches fire. Smoke is filling the room, and patrons need to evacuate quickly. Notify the fire department!', \"In the language lab, a student's electrical experiment results in a small fire. They attempt to extinguish it, but it's escalating. Evacuation and alerting authorities necessary!\", 'At the sports complex, a malfunctioning scoreboard sparks a fire. Smoke is visible, and spectators need to evacuate immediately. Notify the fire department!', \"In the courtyard, a student's attempt at a DIY project results in a small fire. They are struggling to control it. Immediate evacuation and fire department notification required!\", \"In the chemistry lab, a student accidentally knocks over a Bunsen burner, causing a fire. They try to contain it, but it's spreading. Evacuation and fire department notification necessary!\", 'Near the library, an electrical panel malfunctions, leading to sparks and a small fire. Immediate evacuation is necessary to ensure safety. Notify the fire department!', \"In the psychology class, a student's science experiment leads to a small fire. They attempt to put it out, but it's intensifying. Evacuation and alerting authorities needed!\", \"In the cafeteria, a faulty microwave causes a fire. Staff members are trying to control it, but it's spreading. Urgent evacuation required!\", \"In the physics lab, a student's experiment with volatile substances causes a fire. They are struggling to contain it. Immediate evacuation and fire department notification necessary!\", \"In the dormitory, a resident's attempt at cooking goes awry, resulting in a kitchen fire. Quick evacuation and fire department notification essential!\", 'At the sports complex, a malfunctioning electronic scoreboard sparks a fire. Smoke is visible, and spectators need to evacuate immediately. Notify the fire department!', \"In the courtyard, a student's attempt at a chemistry experiment results in a small fire. They are trying to put it out, but it's escalating. Immediate evacuation and fire department notification needed!\", \"In the music room, a faulty amplifier starts a fire. It's spreading, and students need to evacuate immediately. Notify the fire department!\", 'Near the entrance, a student accidentally sets fire to a pile of papers. The flames are spreading, and urgent intervention is necessary to prevent further escalation.', \"In the courtyard, a student's portable charger malfunctions and sparks a fire. They try to stamp it out, but it's intensifying. Immediate evacuation and fire department notification needed!\", 'In the gym, an exercise machine overheats and catches fire. Smoke is filling the room, and patrons need to evacuate quickly. Notify the fire department!', \"In the language lab, a student's electrical experiment results in a small fire. They attempt to extinguish it, but it's escalating. Evacuation and alerting authorities necessary!\", 'At the sports complex, a malfunctioning scoreboard sparks a fire. Smoke is visible, and spectators need to evacuate immediately. Notify the fire department!', \"In the courtyard, a student's attempt at a DIY project results in a small fire. They are struggling to control it. Immediate evacuation and fire department notification required!\", 'In the chemistry lab, a student accidentally knocks over', \" a Bunsen burner, causing a fire. They try to contain it, but it's spreading. Evacuation and fire department notification necessary!\", 'Near the library, an electrical panel malfunctions, leading to sparks and a small fire. Immediate evacuation is necessary to ensure safety. Notify the fire department!', \"In the psychology class, a student's science experiment leads to a small fire. They attempt to put it out, but it's intensifying. Evacuation and alerting authorities needed!\", \"In the cafeteria, a faulty microwave causes a fire. Staff members are trying to control it, but it's spreading. Urgent evacuation required!\", \"In the physics lab, a student's experiment with volatile substances causes a fire. They are struggling to contain it. Immediate evacuation and fire department notification necessary!\", \"In the dormitory, a resident's attempt at cooking goes awry, resulting in a kitchen fire. Quick evacuation and fire department notification essential!\", 'At the sports complex, a malfunctioning electronic scoreboard sparks a fire. Smoke is visible, and spectators need to evacuate immediately. Notify the fire department!', \"In the courtyard, a student's attempt at a chemistry experiment results in a small fire. They are trying to put it out, but it's escalating. Immediate evacuation and fire department notification needed!\", \"In the music room, a faulty amplifier starts a fire. It's spreading, and students need to evacuate immediately. Notify the fire department!\", 'Near the entrance, a student accidentally sets fire to a pile of papers. The flames are spreading, and urgent intervention is necessary to prevent further escalation.']), ('crime', ['In the campus parking lot, I witness a student attempting to break into a car. They look suspicious, and immediate intervention is needed. Security should be alerted.', 'Walking near the library, I notice a heated argument between two students escalating. It turns physical, and they need to be separated immediately. Notify campus security.', 'In the dormitory, a student reports their laptop stolen from their room. They suspect someone unauthorized entered. Immediate investigation and security involvement needed.', \"At the campus cafe, a student snatches another's bag and runs off. A theft has occurred, and security should be notified promptly.\", 'In the engineering lab, a student notices valuable equipment missing. It appears to be a case of theft. Immediate reporting and security involvement are necessary.', 'In the courtyard, I come across a group of students engaging in a physical altercation. They need to be separated, and campus security should intervene.', 'At the language lab, a student reports receiving threatening messages online. This cyberbullying incident requires immediate attention from campus authorities.', 'Near the entrance, a student is loitering suspiciously, possibly attempting to gain unauthorized access. Security should be alerted to investigate.', 'In the psychology class, a heated argument between two students turns aggressive. They need to be separated, and campus security should be called.', \"In the cafeteria, a student's wallet is stolen from their bag while they're distracted. Immediate reporting and involvement of campus security are essential.\", 'In the physics lab, a student notices that expensive equipment has been tampered with. It appears to be an act of vandalism or sabotage. Security should be alerted.', 'In the gym, a student reports witnessing another stealing personal belongings from the locker room. Immediate reporting and security involvement are necessary.', 'In the courtyard, a student is harassed by another, making them feel unsafe. This case of harassment requires immediate intervention and reporting to campus authorities.', 'Near the campus pond, a group of students is engaging in illicit drug use. Immediate intervention and reporting to campus security are essential.', 'In the dormitory, a student reports finding graffiti on their door. It appears to be an act of vandalism, and campus security should be notified.', \"At the sports complex, a student's sports equipment is stolen from the storage area. Immediate reporting and involvement of campus security are necessary.\", 'In the library, a student notices someone attempting to shoplift books. Security should be alerted to prevent the theft.', 'In the courtyard, a student is harassed by another, making them feel unsafe. This case of harassment requires immediate intervention and reporting to campus authorities.', 'Near the campus pond, a group of students is engaging in illicit drug use. Immediate intervention and reporting to campus security are essential.', 'In the dormitory, a student reports finding graffiti on their door. It appears to be an act of vandalism, and campus security should be notified.', \"At the sports complex, a student's sports equipment is stolen from the storage area. Immediate reporting and involvement of campus security are necessary.\", 'In the library, a student notices someone attempting to shoplift books. Security should be alerted to prevent the theft.', \"In the language lab, a student's personal belongings are stolen while they step away. Immediate reporting and involvement of campus security are necessary.\", 'Near the entrance, a student is distributing unauthorized flyers. This could be a violation of campus rules, and security should be notified.', 'In the chemistry lab, a student observes another attempting to tamper with experiments. Immediate reporting and involvement of campus security are essential.', 'In the music room, a student reports the theft of their musical instrument. Immediate reporting and involvement of campus security are necessary.', 'At the campus pond, a student is harassed by a stranger. Immediate intervention and reporting to campus security are essential.', 'In the psychology class, a student overhears plans for an unauthorized gathering that may lead to disruptive activities. Security should be notified to prevent any potential issues.', 'In the cafeteria, a student witnesses another attempting to steal food without paying. Security should be alerted to address the situation.', 'In the physics lab, a student notices someone attempting to remove equipment without authorization. Immediate reporting and involvement of campus security are necessary.', 'In the dormitory, a student reports suspicious individuals loitering in the hallway. Security should be alerted to investigate and ensure campus safety.', 'At the sports complex, a student reports the unauthorized use of sports facilities by non-members. Immediate reporting and involvement of campus security are essential.', 'In the courtyard, a student is harassed by a stranger. Immediate intervention and reporting to campus security are essential.', 'In the psychology class, a student overhears plans for an unauthorized gathering that may lead to disruptive activities. Security should be notified to prevent any potential issues.', 'In the cafeteria, a student witnesses another attempting to steal food without paying. Security should be alerted to address the situation.', 'In the physics lab, a student notices someone attempting to remove equipment without authorization. Immediate reporting and involvement of campus security are necessary.', 'In the dormitory, a student reports suspicious individuals loitering in the hallway. Security should be alerted to investigate and ensure campus safety.', 'At the sports complex, a student reports the unauthorized use of sports facilities by non-members. Immediate reporting and involvement of campus security are essential.', 'In the courtyard, a student notices someone defacing public property with graffiti. Immediate reporting and involvement of campus security are necessary.', 'Near the library, a student witnesses a heated argument escalating. It becomes physical, and immediate intervention is necessary. Notify campus security.', \"In the engineering lab, a student's research materials are tampered with, possibly sabotaged. Immediate reporting and involvement of campus security are essential.\", 'At the language lab, a student reports receiving threatening messages online. This cyberbullying incident requires immediate attention from campus authorities.', 'In the psychology class, a heated argument between two students turns aggressive. They need to be separated, and campus security should be called.', \"In the cafeteria, a student's wallet is stolen from their bag while they're distracted. Immediate reporting and involvement of campus security are essential.\", 'In the physics lab, a student notices that expensive equipment has been tampered with. It appears to be an act of vandalism or sabotage. Security should be alerted.', 'In the gym, a student reports witnessing another stealing personal belongings from the locker room. Immediate reporting and security involvement are necessary.', 'In the courtyard, a student is harassed by another, making them feel unsafe. This case of harassment requires immediate intervention and reporting to campus authorities.', 'Near the campus pond, a group of students is engaging in illicit drug use. Immediate intervention and reporting to campus security are essential.', 'In the dormitory, a student reports finding graffiti on their door. It appears to be an act of vandalism, and campus security should be notified.', \"At the sports complex, a student's sports equipment is stolen from the storage area. Immediate reporting and involvement of campus security are necessary.\", 'In the library, a student notices someone attempting to shoplift books. Security should be alerted to prevent the theft.', \"In the language lab, a student's personal belongings are stolen while they step away. Immediate reporting and involvement of campus security are necessary.\", 'Near the entrance, a student is distributing unauthorized flyers. This could be a violation of campus rules, and security should be notified.', 'In the chemistry lab, a student observes another attempting to tamper with experiments. Immediate reporting and involvement of campus security are essential.', 'In the music room, a student reports the theft of their musical instrument. Immediate reporting and involvement of campus security are necessary.', 'At the campus pond, a student is harassed by a stranger. Immediate intervention and reporting to campus security are essential.', 'In the psychology class, a student overhears plans for an unauthorized gathering that may lead to disruptive activities.', ' Security should be notified to prevent any potential issues.', 'In the cafeteria, a student witnesses another attempting to steal food without paying. Security should be alerted to address the situation.', 'In the physics lab, a student notices someone attempting to remove equipment without authorization. Immediate reporting and involvement of campus security are necessary.', 'In the dormitory, a student reports suspicious individuals loitering in the hallway. Security should be alerted to investigate and ensure campus safety.', 'At the sports complex, a student reports the unauthorized use of sports facilities by non-members. Immediate reporting and involvement of campus security are essential.', 'In the courtyard, a student is harassed by a stranger. Immediate intervention and reporting to campus security are essential.', 'In the psychology class, a student overhears plans for an unauthorized gathering that may lead to disruptive activities. Security should be notified to prevent any potential issues.', 'In the cafeteria, a student witnesses another attempting to steal food without paying. Security should be alerted to address the situation.', 'In the physics lab, a student notices someone attempting to remove equipment without authorization. Immediate reporting and involvement of campus security are necessary.', 'In the dormitory, a student reports suspicious individuals loitering in the hallway. Security should be alerted to investigate and ensure campus safety.', 'At the sports complex, a student reports the unauthorized use of sports facilities by non-members. Immediate reporting and involvement of campus security are essential.', 'In the courtyard, a student notices someone defacing public property with graffiti. Immediate reporting and involvement of campus security are necessary.', 'Near the library, a student witnesses a heated argument escalating. It becomes physical, and immediate intervention is necessary. Notify campus security.', \"In the engineering lab, a student's research materials are tampered with, possibly sabotaged. Immediate reporting and involvement of campus security are essential.\", 'At the language lab, a student reports receiving threatening messages online. This cyberbullying incident requires immediate attention from campus authorities.', 'In the psychology class, a heated argument between two students turns aggressive. They need to be separated, and campus security should be called.', \"In the cafeteria, a student's wallet is stolen from their bag while they're distracted. Immediate reporting and involvement of campus security are essential.\", 'In the physics lab, a student notices that expensive equipment has been tampered with. It appears to be an act of vandalism or sabotage. Security should be alerted.', 'In the gym, a student reports witnessing another stealing personal belongings from the locker room. Immediate reporting and security involvement are necessary.'])])\n",
      "category key 2\n",
      "category key 0\n",
      "category key 1\n"
     ]
    }
   ],
   "source": [
    "category_names = {0: \"Fire\", 1: \"Crime\", 2: \"Health\"}\n",
    "\n",
    "data = {\n",
    "    \"Description\": [],\n",
    "    \"IncidentCategory\": []\n",
    "}\n",
    "\n",
    "for key, item in descriptions.items():\n",
    "    data[\"Description\"] += item\n",
    "\n",
    "    if key == \"fire\":\n",
    "        category_key = 0\n",
    "    elif key == \"crime\":\n",
    "        category_key = 1\n",
    "    elif key == \"health\":\n",
    "        category_key = 2\n",
    "    else:\n",
    "        raise Exception(\"Invalid key\")\n",
    "\n",
    "    data[\"IncidentCategory\"] += [category_key for _ in range(len(item))]"
   ]
  },
  {
   "cell_type": "code",
   "execution_count": 105,
   "metadata": {},
   "outputs": [],
   "source": [
    "df = pd.DataFrame(data)\n",
    "\n",
    "\n",
    "df[\"Description\"] = (\n",
    "    df[\"Description\"].str.replace(\",\", \"\").str.lower()\n",
    ")\n",
    "\n",
    "# Tokenization\n",
    "df[\"Description\"] = df[\"Description\"].apply(nltk.word_tokenize)\n",
    "\n",
    "# Stop Word Removal\n",
    "stop_words = set(stopwords.words(\"english\"))\n",
    "df[\"Description\"] = df[\"Description\"].apply(\n",
    "    lambda tokens: [word for word in tokens if word not in stop_words]\n",
    ")\n",
    "\n",
    "# # Stemming\n",
    "# stemmer = PorterStemmer()\n",
    "# df[\"Description\"] = df[\"Description\"].apply(\n",
    "#     lambda tokens: [stemmer.stem(word) for word in tokens]\n",
    "# )\n",
    "\n",
    "# Join the tokens back into a single string\n",
    "df[\"Description\"] = df[\"Description\"].apply(' '.join)"
   ]
  },
  {
   "cell_type": "code",
   "execution_count": 106,
   "metadata": {},
   "outputs": [
    {
     "data": {
      "text/html": [
       "<div>\n",
       "<style scoped>\n",
       "    .dataframe tbody tr th:only-of-type {\n",
       "        vertical-align: middle;\n",
       "    }\n",
       "\n",
       "    .dataframe tbody tr th {\n",
       "        vertical-align: top;\n",
       "    }\n",
       "\n",
       "    .dataframe thead th {\n",
       "        text-align: right;\n",
       "    }\n",
       "</style>\n",
       "<table border=\"1\" class=\"dataframe\">\n",
       "  <thead>\n",
       "    <tr style=\"text-align: right;\">\n",
       "      <th></th>\n",
       "      <th>Description</th>\n",
       "      <th>IncidentCategory</th>\n",
       "    </tr>\n",
       "  </thead>\n",
       "  <tbody>\n",
       "    <tr>\n",
       "      <th>0</th>\n",
       "      <td>bustling corridor spot someone collapsing gasp...</td>\n",
       "      <td>2</td>\n",
       "    </tr>\n",
       "    <tr>\n",
       "      <th>1</th>\n",
       "      <td>heart pounding witness seizure unfold library ...</td>\n",
       "      <td>2</td>\n",
       "    </tr>\n",
       "    <tr>\n",
       "      <th>2</th>\n",
       "      <td>chaos erupts student falls unconscious cafeter...</td>\n",
       "      <td>2</td>\n",
       "    </tr>\n",
       "    <tr>\n",
       "      <th>3</th>\n",
       "      <td>sudden commotion - person clutching chest lect...</td>\n",
       "      <td>2</td>\n",
       "    </tr>\n",
       "    <tr>\n",
       "      <th>4</th>\n",
       "      <td>stumbling upon distressing scene - student cho...</td>\n",
       "      <td>2</td>\n",
       "    </tr>\n",
       "    <tr>\n",
       "      <th>...</th>\n",
       "      <td>...</td>\n",
       "      <td>...</td>\n",
       "    </tr>\n",
       "    <tr>\n",
       "      <th>237</th>\n",
       "      <td>language lab student reports receiving threate...</td>\n",
       "      <td>1</td>\n",
       "    </tr>\n",
       "    <tr>\n",
       "      <th>238</th>\n",
       "      <td>psychology class heated argument two students ...</td>\n",
       "      <td>1</td>\n",
       "    </tr>\n",
       "    <tr>\n",
       "      <th>239</th>\n",
       "      <td>cafeteria student 's wallet stolen bag 're dis...</td>\n",
       "      <td>1</td>\n",
       "    </tr>\n",
       "    <tr>\n",
       "      <th>240</th>\n",
       "      <td>physics lab student notices expensive equipmen...</td>\n",
       "      <td>1</td>\n",
       "    </tr>\n",
       "    <tr>\n",
       "      <th>241</th>\n",
       "      <td>gym student reports witnessing another stealin...</td>\n",
       "      <td>1</td>\n",
       "    </tr>\n",
       "  </tbody>\n",
       "</table>\n",
       "<p>242 rows × 2 columns</p>\n",
       "</div>"
      ],
      "text/plain": [
       "                                           Description  IncidentCategory\n",
       "0    bustling corridor spot someone collapsing gasp...                 2\n",
       "1    heart pounding witness seizure unfold library ...                 2\n",
       "2    chaos erupts student falls unconscious cafeter...                 2\n",
       "3    sudden commotion - person clutching chest lect...                 2\n",
       "4    stumbling upon distressing scene - student cho...                 2\n",
       "..                                                 ...               ...\n",
       "237  language lab student reports receiving threate...                 1\n",
       "238  psychology class heated argument two students ...                 1\n",
       "239  cafeteria student 's wallet stolen bag 're dis...                 1\n",
       "240  physics lab student notices expensive equipmen...                 1\n",
       "241  gym student reports witnessing another stealin...                 1\n",
       "\n",
       "[242 rows x 2 columns]"
      ]
     },
     "execution_count": 106,
     "metadata": {},
     "output_type": "execute_result"
    }
   ],
   "source": [
    "df"
   ]
  },
  {
   "cell_type": "code",
   "execution_count": 107,
   "metadata": {},
   "outputs": [],
   "source": [
    "# TF-IDF vectorization\n",
    "tfidf_vectorizer = TfidfVectorizer(stop_words=\"english\")\n",
    "tfidf_matrix = tfidf_vectorizer.fit_transform(df[\"Description\"])"
   ]
  },
  {
   "cell_type": "code",
   "execution_count": 108,
   "metadata": {},
   "outputs": [],
   "source": [
    "# Split data into training and testing sets\n",
    "X_train, X_test, y_train, y_test = train_test_split(\n",
    "    tfidf_matrix,\n",
    "    df[\"IncidentCategory\"],\n",
    "    test_size=0.2,\n",
    "    random_state=42,\n",
    ")"
   ]
  },
  {
   "cell_type": "code",
   "execution_count": 115,
   "metadata": {},
   "outputs": [
    {
     "data": {
      "text/html": [
       "<style>#sk-container-id-10 {color: black;}#sk-container-id-10 pre{padding: 0;}#sk-container-id-10 div.sk-toggleable {background-color: white;}#sk-container-id-10 label.sk-toggleable__label {cursor: pointer;display: block;width: 100%;margin-bottom: 0;padding: 0.3em;box-sizing: border-box;text-align: center;}#sk-container-id-10 label.sk-toggleable__label-arrow:before {content: \"▸\";float: left;margin-right: 0.25em;color: #696969;}#sk-container-id-10 label.sk-toggleable__label-arrow:hover:before {color: black;}#sk-container-id-10 div.sk-estimator:hover label.sk-toggleable__label-arrow:before {color: black;}#sk-container-id-10 div.sk-toggleable__content {max-height: 0;max-width: 0;overflow: hidden;text-align: left;background-color: #f0f8ff;}#sk-container-id-10 div.sk-toggleable__content pre {margin: 0.2em;color: black;border-radius: 0.25em;background-color: #f0f8ff;}#sk-container-id-10 input.sk-toggleable__control:checked~div.sk-toggleable__content {max-height: 200px;max-width: 100%;overflow: auto;}#sk-container-id-10 input.sk-toggleable__control:checked~label.sk-toggleable__label-arrow:before {content: \"▾\";}#sk-container-id-10 div.sk-estimator input.sk-toggleable__control:checked~label.sk-toggleable__label {background-color: #d4ebff;}#sk-container-id-10 div.sk-label input.sk-toggleable__control:checked~label.sk-toggleable__label {background-color: #d4ebff;}#sk-container-id-10 input.sk-hidden--visually {border: 0;clip: rect(1px 1px 1px 1px);clip: rect(1px, 1px, 1px, 1px);height: 1px;margin: -1px;overflow: hidden;padding: 0;position: absolute;width: 1px;}#sk-container-id-10 div.sk-estimator {font-family: monospace;background-color: #f0f8ff;border: 1px dotted black;border-radius: 0.25em;box-sizing: border-box;margin-bottom: 0.5em;}#sk-container-id-10 div.sk-estimator:hover {background-color: #d4ebff;}#sk-container-id-10 div.sk-parallel-item::after {content: \"\";width: 100%;border-bottom: 1px solid gray;flex-grow: 1;}#sk-container-id-10 div.sk-label:hover label.sk-toggleable__label {background-color: #d4ebff;}#sk-container-id-10 div.sk-serial::before {content: \"\";position: absolute;border-left: 1px solid gray;box-sizing: border-box;top: 0;bottom: 0;left: 50%;z-index: 0;}#sk-container-id-10 div.sk-serial {display: flex;flex-direction: column;align-items: center;background-color: white;padding-right: 0.2em;padding-left: 0.2em;position: relative;}#sk-container-id-10 div.sk-item {position: relative;z-index: 1;}#sk-container-id-10 div.sk-parallel {display: flex;align-items: stretch;justify-content: center;background-color: white;position: relative;}#sk-container-id-10 div.sk-item::before, #sk-container-id-10 div.sk-parallel-item::before {content: \"\";position: absolute;border-left: 1px solid gray;box-sizing: border-box;top: 0;bottom: 0;left: 50%;z-index: -1;}#sk-container-id-10 div.sk-parallel-item {display: flex;flex-direction: column;z-index: 1;position: relative;background-color: white;}#sk-container-id-10 div.sk-parallel-item:first-child::after {align-self: flex-end;width: 50%;}#sk-container-id-10 div.sk-parallel-item:last-child::after {align-self: flex-start;width: 50%;}#sk-container-id-10 div.sk-parallel-item:only-child::after {width: 0;}#sk-container-id-10 div.sk-dashed-wrapped {border: 1px dashed gray;margin: 0 0.4em 0.5em 0.4em;box-sizing: border-box;padding-bottom: 0.4em;background-color: white;}#sk-container-id-10 div.sk-label label {font-family: monospace;font-weight: bold;display: inline-block;line-height: 1.2em;}#sk-container-id-10 div.sk-label-container {text-align: center;}#sk-container-id-10 div.sk-container {/* jupyter's `normalize.less` sets `[hidden] { display: none; }` but bootstrap.min.css set `[hidden] { display: none !important; }` so we also need the `!important` here to be able to override the default hidden behavior on the sphinx rendered scikit-learn.org. See: https://github.com/scikit-learn/scikit-learn/issues/21755 */display: inline-block !important;position: relative;}#sk-container-id-10 div.sk-text-repr-fallback {display: none;}</style><div id=\"sk-container-id-10\" class=\"sk-top-container\"><div class=\"sk-text-repr-fallback\"><pre>SVC(kernel=&#x27;linear&#x27;, random_state=42)</pre><b>In a Jupyter environment, please rerun this cell to show the HTML representation or trust the notebook. <br />On GitHub, the HTML representation is unable to render, please try loading this page with nbviewer.org.</b></div><div class=\"sk-container\" hidden><div class=\"sk-item\"><div class=\"sk-estimator sk-toggleable\"><input class=\"sk-toggleable__control sk-hidden--visually\" id=\"sk-estimator-id-10\" type=\"checkbox\" checked><label for=\"sk-estimator-id-10\" class=\"sk-toggleable__label sk-toggleable__label-arrow\">SVC</label><div class=\"sk-toggleable__content\"><pre>SVC(kernel=&#x27;linear&#x27;, random_state=42)</pre></div></div></div></div></div>"
      ],
      "text/plain": [
       "SVC(kernel='linear', random_state=42)"
      ]
     },
     "execution_count": 115,
     "metadata": {},
     "output_type": "execute_result"
    }
   ],
   "source": [
    "# Train the SVM Model\n",
    "svm_classifier = SVC(kernel=\"linear\", C=1.0, random_state=42)\n",
    "svm_classifier.fit(X_train, y_train)"
   ]
  },
  {
   "cell_type": "code",
   "execution_count": 116,
   "metadata": {},
   "outputs": [
    {
     "name": "stdout",
     "output_type": "stream",
     "text": [
      "              precision    recall  f1-score   support\n",
      "\n",
      "           0       1.00      0.92      0.96        12\n",
      "           1       1.00      1.00      1.00        15\n",
      "           2       0.96      1.00      0.98        22\n",
      "\n",
      "    accuracy                           0.98        49\n",
      "   macro avg       0.99      0.97      0.98        49\n",
      "weighted avg       0.98      0.98      0.98        49\n",
      "\n"
     ]
    }
   ],
   "source": [
    "# Make predictions on the test set\n",
    "predictions = svm_classifier.predict(X_test)\n",
    "\n",
    "# Evaluate the model\n",
    "report = classification_report(y_test, predictions)\n",
    "print(report)"
   ]
  },
  {
   "cell_type": "code",
   "execution_count": 117,
   "metadata": {},
   "outputs": [
    {
     "name": "stdout",
     "output_type": "stream",
     "text": [
      "Predicted Incident Category: Health (2)\n"
     ]
    }
   ],
   "source": [
    "# Test user provided response.\n",
    "user_description = \"There is fire happening in my hostel.\"\n",
    "\n",
    "# Preprocess the user's description to match the format used during training\n",
    "user_description = user_description.lower()  # Convert to lowercase\n",
    "user_description = user_description.replace(r\"[^\\w\\s]\", \"\")  # Remove punctuation\n",
    "\n",
    "# Vectorize the user's description using the same TF-IDF vectorizer used during training\n",
    "user_description_vector = tfidf_vectorizer.transform([user_description])\n",
    "\n",
    "# Predict the incident category using the trained model\n",
    "predicted_category = svm_classifier.predict(user_description_vector)\n",
    "\n",
    "# Map the category label to the actual category name\n",
    "predicted_category_name = category_names[predicted_category[0]]\n",
    "\n",
    "# Display the prediction\n",
    "print(\n",
    "    \"Predicted Incident Category:\",\n",
    "    f\"{predicted_category_name} ({predicted_category[0]})\",\n",
    ")"
   ]
  }
 ],
 "metadata": {
  "kernelspec": {
   "display_name": "Python 3",
   "language": "python",
   "name": "python3"
  },
  "language_info": {
   "codemirror_mode": {
    "name": "ipython",
    "version": 3
   },
   "file_extension": ".py",
   "mimetype": "text/x-python",
   "name": "python",
   "nbconvert_exporter": "python",
   "pygments_lexer": "ipython3",
   "version": "3.11.2"
  }
 },
 "nbformat": 4,
 "nbformat_minor": 5
}
