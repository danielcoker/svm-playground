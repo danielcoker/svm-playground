{
 "cells": [
  {
   "cell_type": "code",
   "execution_count": 34,
   "metadata": {},
   "outputs": [
    {
     "name": "stderr",
     "output_type": "stream",
     "text": [
      "[nltk_data] Downloading package wordnet to\n",
      "[nltk_data]     /Users/danielcoker/nltk_data...\n"
     ]
    },
    {
     "data": {
      "text/plain": [
       "True"
      ]
     },
     "execution_count": 34,
     "metadata": {},
     "output_type": "execute_result"
    }
   ],
   "source": [
    "import nltk\n",
    "import pandas as pd\n",
    "from nltk.corpus import stopwords\n",
    "from nltk.stem import PorterStemmer\n",
    "from sklearn.feature_extraction.text import TfidfVectorizer\n",
    "from sklearn.metrics import classification_report\n",
    "from sklearn.model_selection import train_test_split\n",
    "from sklearn.svm import SVC"
   ]
  },
  {
   "cell_type": "code",
   "execution_count": 49,
   "metadata": {},
   "outputs": [],
   "source": [
    "def synonym_antonym_extractor(phrase):\n",
    "     from nltk.corpus import wordnet\n",
    "     synonyms = []\n",
    "     antonyms = []\n",
    "\n",
    "     for syn in wordnet.synsets(phrase):\n",
    "          for l in syn.lemmas():\n",
    "               synonyms.append(l.name())\n",
    "\n",
    "     return set(synonyms)\n",
    "\n"
   ]
  },
  {
   "cell_type": "code",
   "execution_count": 64,
   "metadata": {},
   "outputs": [],
   "source": [
    "words_dicts = {}\n",
    "\n",
    "words_dicts[\"crime\"] = [\n",
    "    \"felony\",\n",
    "    \"misdemeanor\",\n",
    "    \"offense\",\n",
    "    \"violation\",\n",
    "    \"wrongdoing\",\n",
    "    \"transgression\",\n",
    "    \"unlawful\",\n",
    "    \"illegal\",\n",
    "    \"lawlessness\",\n",
    "    \"delinquency\",\n",
    "    \"misconduct\",\n",
    "    \"fraud\",\n",
    "    \"corruption\",\n",
    "    \"robbery\",\n",
    "    \"burglary\",\n",
    "    \"theft\",\n",
    "    \"assault\",\n",
    "    \"homicide\",\n",
    "    \"justice\",\n",
    "    \"punishment\"\n",
    "]\n",
    "\n",
    "words_dicts[\"health\"] = [    \"Wellness\",\n",
    "    \"Fitness\",\n",
    "    \"Nutrition\",\n",
    "    \"Exercise\",\n",
    "    \"Hygiene\",\n",
    "    \"Vitality\",\n",
    "    \"Well-being\",\n",
    "    \"Stamina\",\n",
    "    \"Immunity\",\n",
    "    \"Balance\",\n",
    "    \"Restoration\",\n",
    "    \"Holistic\",\n",
    "    \"Medicine\",\n",
    "    \"Mental health\",\n",
    "    \"Physicality\",\n",
    "    \"Nutrient\",\n",
    "    \"Therapeutic\",\n",
    "    \"Recovery\",\n",
    "    \"Vigor\",\n",
    "    \"Organic\"]\n",
    "\n",
    "words_dicts[\"fire\"] = [\"Blaze\", \"Flame\", \"Inferno\", \"Combustion\", \"Ember\",\n",
    "    \"Heat\", \"Incinerate\", \"Ignite\", \"Arson\", \"Conflagration\",\n",
    "    \"Pyre\", \"Scorch\", \"Kindle\", \"Spark\", \"Furnace\",\n",
    "    \"Bonfire\", \"Char\", \"Ash\", \"Wildfire\", \"Hearth\"]\n",
    "\n",
    "def merge_sets(list_of_sets):\n",
    "    merged_set = set()\n",
    "    for s in list_of_sets:\n",
    "        merged_set = merged_set.union(s)\n",
    "    return merged_set\n",
    "\n",
    "\n",
    "def get_related_words(word):\n",
    "    related_words = []\n",
    "\n",
    "    for word in words_dicts[word]:\n",
    "        res = synonym_antonym_extractor(word)\n",
    "        \n",
    "        related_words.append(res)\n",
    "\n",
    "    return list(set(merge_sets(related_words)))\n",
    "    # return related_words\n",
    "\n"
   ]
  },
  {
   "cell_type": "code",
   "execution_count": 2,
   "metadata": {},
   "outputs": [],
   "source": [
    "import warnings\n",
    "warnings.filterwarnings(\"ignore\")"
   ]
  },
  {
   "cell_type": "code",
   "execution_count": 17,
   "metadata": {},
   "outputs": [],
   "source": [
    "# Category Names\n",
    "category_names = {0: \"Fire\", 1: \"Crime\", 2: \"Health\"}\n",
    "\n",
    "# Sample Data\n",
    "data = {\n",
    "    \"Description\": [\n",
    "        \"There was a fire in the chemistry lab at the university.\",\n",
    "        \"A theft occurred in the electronics store last night.\",\n",
    "        \"A student had a medical emergency during a class.\",\n",
    "        \"I witnessed a hit-and-run accident on Main Street.\",\n",
    "        \"There was a large fight at the local bar involving multiple people.\",\n",
    "        \"A car crashed into a tree in the park.\",\n",
    "        \"Someone reported a suspicious package at the train station.\",\n",
    "        \"A person was assaulted in the park in the evening.\",\n",
    "        \"I found an injured bird in my backyard.\",\n",
    "        \"There's a gas leak in the apartment building.\",\n",
    "        \"A burglary took place at my neighbor's house.\",\n",
    "        \"I saw a person who fainted on the subway platform.\",\n",
    "        \"A dog is stuck in a tree in the park.\",\n",
    "        \"A drunk driver was seen swerving on the highway.\",\n",
    "        \"A building is on fire in the industrial area.\",\n",
    "        \"I spotted a missing child at the shopping mall.\",\n",
    "        \"A car was stolen from the parking lot of the grocery store.\",\n",
    "        \"There's a fire outbreak in the neighborhood.\",\n",
    "        \"A fight broke out at a soccer game.\",\n",
    "        \"I heard gunshots in the neighborhood last night.\",\n",
    "        \"I was heading home near the Appatapiti area by Rheoboth Lodge. I was on my phone when suddenly, a motorcyclist approached from behind, snatched my phone, and sped away.\",\n",
    "        \n",
    "    ],\n",
    "    \"IncidentCategory\": [0, 1, 2, 1, 1, 2, 1, 1, 2, 0, 1, 2, 2, 1, 0, 1, 1, 0, 0, 2, 1],\n",
    "}"
   ]
  },
  {
   "cell_type": "code",
   "execution_count": 89,
   "metadata": {},
   "outputs": [
    {
     "data": {
      "text/html": [
       "<div>\n",
       "<style scoped>\n",
       "    .dataframe tbody tr th:only-of-type {\n",
       "        vertical-align: middle;\n",
       "    }\n",
       "\n",
       "    .dataframe tbody tr th {\n",
       "        vertical-align: top;\n",
       "    }\n",
       "\n",
       "    .dataframe thead th {\n",
       "        text-align: right;\n",
       "    }\n",
       "</style>\n",
       "<table border=\"1\" class=\"dataframe\">\n",
       "  <thead>\n",
       "    <tr style=\"text-align: right;\">\n",
       "      <th></th>\n",
       "      <th>Description</th>\n",
       "      <th>IncidentCategory</th>\n",
       "    </tr>\n",
       "  </thead>\n",
       "  <tbody>\n",
       "    <tr>\n",
       "      <th>0</th>\n",
       "      <td>fire chemistri lab univers .</td>\n",
       "      <td>0</td>\n",
       "    </tr>\n",
       "    <tr>\n",
       "      <th>1</th>\n",
       "      <td>theft occur electron store last night .</td>\n",
       "      <td>1</td>\n",
       "    </tr>\n",
       "    <tr>\n",
       "      <th>2</th>\n",
       "      <td>student medic emerg class .</td>\n",
       "      <td>2</td>\n",
       "    </tr>\n",
       "    <tr>\n",
       "      <th>3</th>\n",
       "      <td>wit hit-and-run accid main street .</td>\n",
       "      <td>1</td>\n",
       "    </tr>\n",
       "    <tr>\n",
       "      <th>4</th>\n",
       "      <td>larg fight local bar involv multipl peopl .</td>\n",
       "      <td>1</td>\n",
       "    </tr>\n",
       "    <tr>\n",
       "      <th>5</th>\n",
       "      <td>car crash tree park .</td>\n",
       "      <td>2</td>\n",
       "    </tr>\n",
       "    <tr>\n",
       "      <th>6</th>\n",
       "      <td>someon report suspici packag train station .</td>\n",
       "      <td>1</td>\n",
       "    </tr>\n",
       "    <tr>\n",
       "      <th>7</th>\n",
       "      <td>person assault park even .</td>\n",
       "      <td>1</td>\n",
       "    </tr>\n",
       "    <tr>\n",
       "      <th>8</th>\n",
       "      <td>found injur bird backyard .</td>\n",
       "      <td>2</td>\n",
       "    </tr>\n",
       "    <tr>\n",
       "      <th>9</th>\n",
       "      <td>'s ga leak apart build .</td>\n",
       "      <td>0</td>\n",
       "    </tr>\n",
       "    <tr>\n",
       "      <th>10</th>\n",
       "      <td>burglari took place neighbor 's hous .</td>\n",
       "      <td>1</td>\n",
       "    </tr>\n",
       "    <tr>\n",
       "      <th>11</th>\n",
       "      <td>saw person faint subway platform .</td>\n",
       "      <td>2</td>\n",
       "    </tr>\n",
       "    <tr>\n",
       "      <th>12</th>\n",
       "      <td>dog stuck tree park .</td>\n",
       "      <td>2</td>\n",
       "    </tr>\n",
       "    <tr>\n",
       "      <th>13</th>\n",
       "      <td>drunk driver seen swerv highway .</td>\n",
       "      <td>1</td>\n",
       "    </tr>\n",
       "    <tr>\n",
       "      <th>14</th>\n",
       "      <td>build fire industri area .</td>\n",
       "      <td>0</td>\n",
       "    </tr>\n",
       "    <tr>\n",
       "      <th>15</th>\n",
       "      <td>spot miss child shop mall .</td>\n",
       "      <td>1</td>\n",
       "    </tr>\n",
       "    <tr>\n",
       "      <th>16</th>\n",
       "      <td>car stolen park lot groceri store .</td>\n",
       "      <td>1</td>\n",
       "    </tr>\n",
       "    <tr>\n",
       "      <th>17</th>\n",
       "      <td>'s fire outbreak neighborhood .</td>\n",
       "      <td>0</td>\n",
       "    </tr>\n",
       "    <tr>\n",
       "      <th>18</th>\n",
       "      <td>fight broke soccer game .</td>\n",
       "      <td>0</td>\n",
       "    </tr>\n",
       "    <tr>\n",
       "      <th>19</th>\n",
       "      <td>heard gunshot neighborhood last night .</td>\n",
       "      <td>2</td>\n",
       "    </tr>\n",
       "    <tr>\n",
       "      <th>20</th>\n",
       "      <td>head home near appatap area rheoboth lodg . ph...</td>\n",
       "      <td>1</td>\n",
       "    </tr>\n",
       "  </tbody>\n",
       "</table>\n",
       "</div>"
      ],
      "text/plain": [
       "                                          Description  IncidentCategory\n",
       "0                        fire chemistri lab univers .                 0\n",
       "1             theft occur electron store last night .                 1\n",
       "2                         student medic emerg class .                 2\n",
       "3                 wit hit-and-run accid main street .                 1\n",
       "4         larg fight local bar involv multipl peopl .                 1\n",
       "5                               car crash tree park .                 2\n",
       "6        someon report suspici packag train station .                 1\n",
       "7                          person assault park even .                 1\n",
       "8                         found injur bird backyard .                 2\n",
       "9                            's ga leak apart build .                 0\n",
       "10             burglari took place neighbor 's hous .                 1\n",
       "11                 saw person faint subway platform .                 2\n",
       "12                              dog stuck tree park .                 2\n",
       "13                  drunk driver seen swerv highway .                 1\n",
       "14                         build fire industri area .                 0\n",
       "15                        spot miss child shop mall .                 1\n",
       "16                car stolen park lot groceri store .                 1\n",
       "17                    's fire outbreak neighborhood .                 0\n",
       "18                          fight broke soccer game .                 0\n",
       "19            heard gunshot neighborhood last night .                 2\n",
       "20  head home near appatap area rheoboth lodg . ph...                 1"
      ]
     },
     "execution_count": 89,
     "metadata": {},
     "output_type": "execute_result"
    }
   ],
   "source": [
    "df = pd.DataFrame(data)\n",
    "\n",
    "# Text preprocessing and Feature Extraction\n",
    "df[\"Description\"] = (\n",
    "    df[\"Description\"].str.replace(r\"[^\\w\\s]\", \"\").str.lower()\n",
    ")  # Convert to lowercase\n",
    "df[\"Description\"] = df[\"Description\"].str.replace(r\"[^\\w\\s]\", \"\")  # Remove punctuation\n",
    "\n",
    "# Tokenization\n",
    "df[\"Description\"] = df[\"Description\"].apply(nltk.word_tokenize)\n",
    "\n",
    "\n",
    "\n",
    "# # Stop Word Removal\n",
    "stop_words = set(stopwords.words(\"english\"))\n",
    "df[\"Description\"] = df[\"Description\"].apply(\n",
    "    lambda tokens: [word for word in tokens if word not in stop_words]\n",
    ")\n",
    "\n",
    "# # Stemming\n",
    "stemmer = PorterStemmer()\n",
    "df[\"Description\"] = df[\"Description\"].apply(\n",
    "    lambda tokens: [stemmer.stem(word) for word in tokens]\n",
    ")\n",
    "\n",
    "# # Join the tokens back into a single string\n",
    "df[\"Description\"] = df[\"Description\"].apply(' '.join)\n",
    "\n",
    "df"
   ]
  },
  {
   "cell_type": "code",
   "execution_count": 96,
   "metadata": {},
   "outputs": [
    {
     "name": "stdout",
     "output_type": "stream",
     "text": [
      "Vectorising the text...\n",
      "Splitting data into training and testing sets...\n"
     ]
    }
   ],
   "source": [
    "# TF-IDF vectorization\n",
    "print(\"Vectorising the text...\")\n",
    "tfidf_vectorizer = TfidfVectorizer(stop_words=\"english\")\n",
    "tfidf_matrix = tfidf_vectorizer.fit_transform(df[\"Description\"])\n",
    "\n",
    "# Split data into training and testing sets\n",
    "print(\"Splitting data into training and testing sets...\")\n",
    "X_train, X_test, y_train, y_test = train_test_split(\n",
    "    tfidf_matrix,\n",
    "    df[\"IncidentCategory\"],\n",
    "    test_size=0.4,\n",
    "    random_state=42,\n",
    ")"
   ]
  },
  {
   "cell_type": "code",
   "execution_count": 97,
   "metadata": {},
   "outputs": [
    {
     "name": "stdout",
     "output_type": "stream",
     "text": [
      "Training the model...\n",
      "Training complete!\n",
      "              precision    recall  f1-score   support\n",
      "\n",
      "           0       0.00      0.00      0.00         3\n",
      "           1       0.33      1.00      0.50         3\n",
      "           2       0.00      0.00      0.00         3\n",
      "\n",
      "    accuracy                           0.33         9\n",
      "   macro avg       0.11      0.33      0.17         9\n",
      "weighted avg       0.11      0.33      0.17         9\n",
      "\n"
     ]
    }
   ],
   "source": [
    "# Train the SVM Model\n",
    "print(\"Training the model...\")\n",
    "svm_classifier = SVC(kernel=\"linear\", C=1.0, random_state=42)\n",
    "svm_classifier.fit(X_train, y_train)\n",
    "print(\"Training complete!\")\n",
    "\n",
    "# Make predictions on the test set\n",
    "predictions = svm_classifier.predict(X_test)\n",
    "\n",
    "# Evaluate the model\n",
    "report = classification_report(y_test, predictions)\n",
    "print(report)"
   ]
  },
  {
   "cell_type": "code",
   "execution_count": 99,
   "metadata": {},
   "outputs": [
    {
     "name": "stdout",
     "output_type": "stream",
     "text": [
      "Vectorising the user's description...\n",
      "Predicting the incident category...\n",
      "Predicted Incident Category: Crime (1)\n"
     ]
    }
   ],
   "source": [
    "# Test user provided response.\n",
    "user_description = \"I saw a person who fainted on the subway platform.\"\n",
    "\n",
    "# Preprocess the user's description to match the format used during training\n",
    "user_description = user_description.lower()  # Convert to lowercase\n",
    "user_description = user_description.replace(r\"[^\\w\\s]\", \"\")  # Remove punctuation\n",
    "\n",
    "# Vectorize the user's description using the same TF-IDF vectorizer used during training\n",
    "print(\"Vectorising the user's description...\")\n",
    "user_description_vector = tfidf_vectorizer.transform([user_description])\n",
    "\n",
    "# Predict the incident category using the trained model\n",
    "print(\"Predicting the incident category...\")\n",
    "predicted_category = svm_classifier.predict(user_description_vector)\n",
    "\n",
    "# Map the category label to the actual category name\n",
    "predicted_category_name = category_names[predicted_category[0]]\n",
    "\n",
    "# Display the prediction\n",
    "print(\n",
    "    \"Predicted Incident Category:\",\n",
    "    f\"{predicted_category_name} ({predicted_category[0]})\",\n",
    ")"
   ]
  },
  {
   "cell_type": "code",
   "execution_count": 85,
   "metadata": {},
   "outputs": [],
   "source": [
    "dics = []\n",
    "\n",
    "def is_word_in_text(word_list, text):\n",
    "    for word in word_list:\n",
    "        if word.lower() in text.lower():\n",
    "            return True\n",
    "    return False\n",
    "\n",
    "word_sample = \"There was a fire in the chemistry lab at the university.\"\n",
    "def search_words(text):\n",
    "    result = {\n",
    "        \"fire\": 1 if is_word_in_text(fire_related_words, text) else 0,\n",
    "        \"health\": 1 if is_word_in_text(health_related_words, text) else 0,\n",
    "        \"crime\": 1 if is_word_in_text(crime_related_words, text) else 0\n",
    "    }\n",
    "\n",
    "    dics.append(result)\n",
    "    return result, text\n"
   ]
  },
  {
   "cell_type": "code",
   "execution_count": 86,
   "metadata": {},
   "outputs": [
    {
     "data": {
      "text/plain": [
       "({'fire': 1, 'health': 0, 'crime': 0},\n",
       " 'There was a fire in the chemistry lab at the university.')"
      ]
     },
     "execution_count": 86,
     "metadata": {},
     "output_type": "execute_result"
    }
   ],
   "source": [
    "search_words(word_sample)"
   ]
  },
  {
   "cell_type": "code",
   "execution_count": 87,
   "metadata": {},
   "outputs": [
    {
     "data": {
      "text/plain": [
       "[{'fire': 1, 'health': 0, 'crime': 0}]"
      ]
     },
     "execution_count": 87,
     "metadata": {},
     "output_type": "execute_result"
    }
   ],
   "source": [
    "dics"
   ]
  },
  {
   "cell_type": "code",
   "execution_count": 88,
   "metadata": {},
   "outputs": [
    {
     "data": {
      "text/plain": [
       "0     ({'fire': 1, 'health': 0, 'crime': 0}, there w...\n",
       "1     ({'fire': 0, 'health': 0, 'crime': 1}, a theft...\n",
       "2     ({'fire': 0, 'health': 0, 'crime': 0}, a stude...\n",
       "3     ({'fire': 0, 'health': 0, 'crime': 0}, i witne...\n",
       "4     ({'fire': 0, 'health': 0, 'crime': 0}, there w...\n",
       "5     ({'fire': 1, 'health': 0, 'crime': 0}, a car c...\n",
       "6     ({'fire': 0, 'health': 0, 'crime': 0}, someone...\n",
       "7     ({'fire': 0, 'health': 0, 'crime': 1}, a perso...\n",
       "8     ({'fire': 0, 'health': 0, 'crime': 0}, i found...\n",
       "9     ({'fire': 0, 'health': 0, 'crime': 0}, there '...\n",
       "10    ({'fire': 0, 'health': 1, 'crime': 1}, a burgl...\n",
       "11    ({'fire': 0, 'health': 0, 'crime': 0}, i saw a...\n",
       "12    ({'fire': 0, 'health': 1, 'crime': 0}, a dog i...\n",
       "13    ({'fire': 0, 'health': 0, 'crime': 0}, a drunk...\n",
       "14    ({'fire': 1, 'health': 0, 'crime': 0}, a build...\n",
       "15    ({'fire': 0, 'health': 0, 'crime': 0}, i spott...\n",
       "16    ({'fire': 0, 'health': 0, 'crime': 0}, a car w...\n",
       "17    ({'fire': 1, 'health': 0, 'crime': 0}, there '...\n",
       "18    ({'fire': 0, 'health': 0, 'crime': 0}, a fight...\n",
       "19    ({'fire': 0, 'health': 0, 'crime': 0}, i heard...\n",
       "20    ({'fire': 1, 'health': 0, 'crime': 0}, i was h...\n",
       "Name: Description, dtype: object"
      ]
     },
     "execution_count": 88,
     "metadata": {},
     "output_type": "execute_result"
    }
   ],
   "source": [
    "df[\"Description\"].apply(search_words)"
   ]
  },
  {
   "cell_type": "code",
   "execution_count": 70,
   "metadata": {},
   "outputs": [
    {
     "data": {
      "text/plain": [
       "[{'fire': 1, 'health': 0, 'crime': 0},\n",
       " {'fire': 1, 'health': 0, 'crime': 0},\n",
       " {'fire': 0, 'health': 0, 'crime': 1},\n",
       " {'fire': 0, 'health': 0, 'crime': 0},\n",
       " {'fire': 0, 'health': 0, 'crime': 0},\n",
       " {'fire': 0, 'health': 0, 'crime': 0},\n",
       " {'fire': 1, 'health': 0, 'crime': 0},\n",
       " {'fire': 0, 'health': 0, 'crime': 0},\n",
       " {'fire': 0, 'health': 0, 'crime': 1},\n",
       " {'fire': 0, 'health': 0, 'crime': 0},\n",
       " {'fire': 0, 'health': 0, 'crime': 0},\n",
       " {'fire': 0, 'health': 0, 'crime': 0},\n",
       " {'fire': 0, 'health': 0, 'crime': 0},\n",
       " {'fire': 0, 'health': 1, 'crime': 0},\n",
       " {'fire': 0, 'health': 0, 'crime': 0},\n",
       " {'fire': 1, 'health': 0, 'crime': 0},\n",
       " {'fire': 0, 'health': 0, 'crime': 0},\n",
       " {'fire': 0, 'health': 0, 'crime': 0},\n",
       " {'fire': 1, 'health': 0, 'crime': 0},\n",
       " {'fire': 0, 'health': 0, 'crime': 0},\n",
       " {'fire': 0, 'health': 0, 'crime': 0},\n",
       " {'fire': 0, 'health': 0, 'crime': 0}]"
      ]
     },
     "execution_count": 70,
     "metadata": {},
     "output_type": "execute_result"
    }
   ],
   "source": [
    "dics"
   ]
  }
 ],
 "metadata": {
  "kernelspec": {
   "display_name": "venv",
   "language": "python",
   "name": "python3"
  },
  "language_info": {
   "codemirror_mode": {
    "name": "ipython",
    "version": 3
   },
   "file_extension": ".py",
   "mimetype": "text/x-python",
   "name": "python",
   "nbconvert_exporter": "python",
   "pygments_lexer": "ipython3",
   "version": "3.11.2"
  }
 },
 "nbformat": 4,
 "nbformat_minor": 2
}
